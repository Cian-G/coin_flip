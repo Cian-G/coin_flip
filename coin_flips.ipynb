{
 "cells": [
  {
   "cell_type": "markdown",
   "metadata": {},
   "source": [
    "# Coin-flip puzzle\n",
    "*Solution by Cian Galvin*\n",
    "\n",
    "Alice &amp; Bob flip coins. Alice gets points for HH. Bob gets points for HT. Who wins in a 100-flip game?\n",
    "\n",
    "https://twitter.com/littmath/status/1769044719034647001\n",
    "\n",
    "https://www.reddit.com/r/theydidthemath/comments/1bgnbnt/request_whod_get_more_points/\n",
    "\n",
    "**Daniel Litt's challenge:**\n",
    "\n",
    "Flip a fair coin 100 times—it gives a sequence of heads (H) and tails (T). For each HH in the sequence of flips, Alice gets a point; for each HT, Bob does, so e.g. for the sequence THHHT Alice gets 2 points and Bob gets 1 point. Who is most likely to win?\n",
    "\n",
    "Poll results:\n",
    " - Alice 26.3%\n",
    " - Bob 10.2%\n",
    " - Equally likely 42.8%\n",
    " - See results 20.7%\n",
    "\n",
    "Actual result:\n",
    "Bob wins ~**48.6%** of games, Alice wins ~**45.8%**. 5.6% of games are ties\n",
    "\n",
    "Of the ~41k people who choose an answer (Alice, Bob, Equally likely), 87.1% voted against Bob winning"
   ]
  },
  {
   "cell_type": "code",
   "execution_count": 1,
   "metadata": {},
   "outputs": [
    {
     "data": {
      "text/plain": [
       "([33.2, 12.9, 54.0], 87.1)"
      ]
     },
     "execution_count": 1,
     "metadata": {},
     "output_type": "execute_result"
    }
   ],
   "source": [
    "# Renormalization without \"See results\" response\n",
    "votes = [26.3, 10.2, 42.8]\n",
    "\n",
    "renorm = [round(100 * x / sum(votes), 1) for x in votes]\n",
    "\n",
    "incorrect_answers = 100 - renorm[1]\n",
    "renorm, incorrect_answers"
   ]
  },
  {
   "cell_type": "markdown",
   "metadata": {},
   "source": [
    "## Imports"
   ]
  },
  {
   "cell_type": "code",
   "execution_count": 2,
   "metadata": {},
   "outputs": [],
   "source": [
    "import random\n",
    "import re\n",
    "\n",
    "import pandas as pd\n",
    "from matplotlib import pyplot as plt"
   ]
  },
  {
   "cell_type": "markdown",
   "metadata": {},
   "source": [
    "## Simulation & score calculation\n",
    "For this simulation, I am treating a Heads as a 1 and a Tails as a 0. This allows me to generate a game of arbitrary length with a single random number written in binary"
   ]
  },
  {
   "cell_type": "code",
   "execution_count": 3,
   "metadata": {},
   "outputs": [
    {
     "data": {
      "text/plain": [
       "['0110011011100001010100011110101100010110111100001001101111000101010001101101101010011110101010100001',\n",
       " '1011100010011111101101001001110111000110000110110001000011001010010101111001011100000011001001110010',\n",
       " '0001011010100011100111111001000111010011000011010001011010100101011101111101010000100010111100000000',\n",
       " '1001010000110000101101111111000111101101100010110000010110110001110111110011100111100110111101001101',\n",
       " '1010011111100010001111001111000010111100110001110110111011001110110000001110111001110111000101011001']"
      ]
     },
     "execution_count": 3,
     "metadata": {},
     "output_type": "execute_result"
    }
   ],
   "source": [
    "coin_flips = 100  # Coinflips per game\n",
    "trial_count = int(1e6)  # How many games/trials to generate\n",
    "\n",
    "# This number in binary is a string of 1's, the absolute ideal case for Alice\n",
    "all_heads = (2**coin_flips) - 1\n",
    "\n",
    "# Generate a zero-padded 100-digit binary number for each trial\n",
    "trials = [f\"{random.randint(0, all_heads):0100b}\" for _ in range(trial_count)]\n",
    "trials[:5]"
   ]
  },
  {
   "cell_type": "code",
   "execution_count": 4,
   "metadata": {},
   "outputs": [],
   "source": [
    "# Generate CSV for sharing\n",
    "\n",
    "# (\n",
    "#     pd.Series(trials)\n",
    "#     .str.replace(\"1\", \"H\")\n",
    "#     .str.replace(\"0\", \"T\")\n",
    "#     .to_csv(\n",
    "#         \"simulated_games.csv\",\n",
    "#         index=False,\n",
    "#         header=False,\n",
    "#     )\n",
    "# )"
   ]
  },
  {
   "cell_type": "code",
   "execution_count": 5,
   "metadata": {},
   "outputs": [
    {
     "data": {
      "text/html": [
       "<div>\n",
       "<style scoped>\n",
       "    .dataframe tbody tr th:only-of-type {\n",
       "        vertical-align: middle;\n",
       "    }\n",
       "\n",
       "    .dataframe tbody tr th {\n",
       "        vertical-align: top;\n",
       "    }\n",
       "\n",
       "    .dataframe thead th {\n",
       "        text-align: right;\n",
       "    }\n",
       "</style>\n",
       "<table border=\"1\" class=\"dataframe\">\n",
       "  <thead>\n",
       "    <tr style=\"text-align: right;\">\n",
       "      <th></th>\n",
       "      <th>trial</th>\n",
       "      <th>alice_points</th>\n",
       "      <th>bob_points</th>\n",
       "      <th>alice_wins</th>\n",
       "      <th>bob_wins</th>\n",
       "      <th>tie</th>\n",
       "    </tr>\n",
       "  </thead>\n",
       "  <tbody>\n",
       "    <tr>\n",
       "      <th>0</th>\n",
       "      <td>0110011011100001010100011110101100010110111100...</td>\n",
       "      <td>22</td>\n",
       "      <td>28</td>\n",
       "      <td>False</td>\n",
       "      <td>True</td>\n",
       "      <td>False</td>\n",
       "    </tr>\n",
       "    <tr>\n",
       "      <th>1</th>\n",
       "      <td>1011100010011111101101001001110111000110000110...</td>\n",
       "      <td>24</td>\n",
       "      <td>25</td>\n",
       "      <td>False</td>\n",
       "      <td>True</td>\n",
       "      <td>False</td>\n",
       "    </tr>\n",
       "    <tr>\n",
       "      <th>2</th>\n",
       "      <td>0001011010100011100111111001000111010011000011...</td>\n",
       "      <td>22</td>\n",
       "      <td>25</td>\n",
       "      <td>False</td>\n",
       "      <td>True</td>\n",
       "      <td>False</td>\n",
       "    </tr>\n",
       "    <tr>\n",
       "      <th>3</th>\n",
       "      <td>1001010000110000101101111111000111101101100010...</td>\n",
       "      <td>32</td>\n",
       "      <td>23</td>\n",
       "      <td>True</td>\n",
       "      <td>False</td>\n",
       "      <td>False</td>\n",
       "    </tr>\n",
       "    <tr>\n",
       "      <th>4</th>\n",
       "      <td>1010011111100010001111001111000010111100110001...</td>\n",
       "      <td>33</td>\n",
       "      <td>22</td>\n",
       "      <td>True</td>\n",
       "      <td>False</td>\n",
       "      <td>False</td>\n",
       "    </tr>\n",
       "  </tbody>\n",
       "</table>\n",
       "</div>"
      ],
      "text/plain": [
       "                                               trial  alice_points  \\\n",
       "0  0110011011100001010100011110101100010110111100...            22   \n",
       "1  1011100010011111101101001001110111000110000110...            24   \n",
       "2  0001011010100011100111111001000111010011000011...            22   \n",
       "3  1001010000110000101101111111000111101101100010...            32   \n",
       "4  1010011111100010001111001111000010111100110001...            33   \n",
       "\n",
       "   bob_points  alice_wins  bob_wins    tie  \n",
       "0          28       False      True  False  \n",
       "1          25       False      True  False  \n",
       "2          25       False      True  False  \n",
       "3          23        True     False  False  \n",
       "4          22        True     False  False  "
      ]
     },
     "execution_count": 5,
     "metadata": {},
     "output_type": "execute_result"
    }
   ],
   "source": [
    "df = pd.DataFrame(trials, columns=[\"trial\"])\n",
    "\n",
    "# Alice gets points from overlapping sequences, so two points from HHH.\n",
    "\n",
    "# Using lookahead regular expression\n",
    "# df[\"alice_points\"] = df[\"trial\"].apply(lambda x: len(re.findall(\"(?=11)\", x)))\n",
    "\n",
    "# Using list split method - faster?\n",
    "df[\"alice_points\"] = df[\"trial\"].apply(\n",
    "    lambda x: sum(len(y) - 1 for y in x.split(\"0\") if y)\n",
    ")\n",
    "\n",
    "# Bob's points are easier to calculate\n",
    "df[\"bob_points\"] = df[\"trial\"].str.count(\"10\")\n",
    "\n",
    "\n",
    "# Defining win-loss-tie columns\n",
    "df[\"alice_wins\"] = df[\"alice_points\"] > df[\"bob_points\"]\n",
    "df[\"bob_wins\"] = df[\"alice_points\"] < df[\"bob_points\"]\n",
    "df[\"tie\"] = df[\"alice_points\"] == df[\"bob_points\"]\n",
    "\n",
    "df.head()"
   ]
  },
  {
   "cell_type": "markdown",
   "metadata": {},
   "source": [
    "## Declaring the winner"
   ]
  },
  {
   "cell_type": "code",
   "execution_count": 10,
   "metadata": {},
   "outputs": [
    {
     "data": {
      "text/plain": [
       "alice_wins    45.9\n",
       "bob_wins      48.5\n",
       "tie            5.6\n",
       "dtype: float64"
      ]
     },
     "execution_count": 10,
     "metadata": {},
     "output_type": "execute_result"
    }
   ],
   "source": [
    "# Win-rate percentage\n",
    "df[[\"alice_wins\", \"bob_wins\", \"tie\"]].mean().mul(100).round(1)"
   ]
  },
  {
   "cell_type": "markdown",
   "metadata": {},
   "source": [
    "## Further examination"
   ]
  },
  {
   "cell_type": "code",
   "execution_count": 12,
   "metadata": {},
   "outputs": [
    {
     "data": {
      "text/html": [
       "<div>\n",
       "<style scoped>\n",
       "    .dataframe tbody tr th:only-of-type {\n",
       "        vertical-align: middle;\n",
       "    }\n",
       "\n",
       "    .dataframe tbody tr th {\n",
       "        vertical-align: top;\n",
       "    }\n",
       "\n",
       "    .dataframe thead th {\n",
       "        text-align: right;\n",
       "    }\n",
       "</style>\n",
       "<table border=\"1\" class=\"dataframe\">\n",
       "  <thead>\n",
       "    <tr style=\"text-align: right;\">\n",
       "      <th></th>\n",
       "      <th>alice_points</th>\n",
       "      <th>bob_points</th>\n",
       "    </tr>\n",
       "  </thead>\n",
       "  <tbody>\n",
       "    <tr>\n",
       "      <th>count</th>\n",
       "      <td>1000000.000000</td>\n",
       "      <td>1000000.000000</td>\n",
       "    </tr>\n",
       "    <tr>\n",
       "      <th>mean</th>\n",
       "      <td>24.756081</td>\n",
       "      <td>24.745856</td>\n",
       "    </tr>\n",
       "    <tr>\n",
       "      <th>std</th>\n",
       "      <td>5.553401</td>\n",
       "      <td>2.514106</td>\n",
       "    </tr>\n",
       "    <tr>\n",
       "      <th>min</th>\n",
       "      <td>3.000000</td>\n",
       "      <td>13.000000</td>\n",
       "    </tr>\n",
       "    <tr>\n",
       "      <th>25%</th>\n",
       "      <td>21.000000</td>\n",
       "      <td>23.000000</td>\n",
       "    </tr>\n",
       "    <tr>\n",
       "      <th>50%</th>\n",
       "      <td>25.000000</td>\n",
       "      <td>25.000000</td>\n",
       "    </tr>\n",
       "    <tr>\n",
       "      <th>75%</th>\n",
       "      <td>28.000000</td>\n",
       "      <td>26.000000</td>\n",
       "    </tr>\n",
       "    <tr>\n",
       "      <th>max</th>\n",
       "      <td>56.000000</td>\n",
       "      <td>37.000000</td>\n",
       "    </tr>\n",
       "  </tbody>\n",
       "</table>\n",
       "</div>"
      ],
      "text/plain": [
       "         alice_points      bob_points\n",
       "count  1000000.000000  1000000.000000\n",
       "mean        24.756081       24.745856\n",
       "std          5.553401        2.514106\n",
       "min          3.000000       13.000000\n",
       "25%         21.000000       23.000000\n",
       "50%         25.000000       25.000000\n",
       "75%         28.000000       26.000000\n",
       "max         56.000000       37.000000"
      ]
     },
     "execution_count": 12,
     "metadata": {},
     "output_type": "execute_result"
    }
   ],
   "source": [
    "df.describe()"
   ]
  },
  {
   "cell_type": "markdown",
   "metadata": {},
   "source": [
    "Alice & Bob both have the same mean score to three significant figures and the same median score. The standard deviation of Alice's score is much higher."
   ]
  },
  {
   "cell_type": "code",
   "execution_count": 9,
   "metadata": {},
   "outputs": [
    {
     "data": {
      "image/png": "[encoded data removed]",
      "text/plain": [
       "<Figure size 700x500 with 1 Axes>"
      ]
     },
     "metadata": {},
     "output_type": "display_data"
    }
   ],
   "source": [
    "fig, ax = plt.subplots(figsize=(7, 5))\n",
    "\n",
    "df[[\"alice_points\", \"bob_points\"]].plot.hist(\n",
    "    alpha=0.5,\n",
    "    bins=range(0, 51),\n",
    "    ax=ax,\n",
    ")\n",
    "\n",
    "ax.set(\n",
    "    title=\"Point distributions\",\n",
    "    xlabel=\"Points per game\",\n",
    "    xlim=[0, 50],\n",
    ")\n",
    "ax.spines[[\"right\", \"top\"]].set_visible(False)\n",
    "\n",
    "plt.show()"
   ]
  },
  {
   "cell_type": "markdown",
   "metadata": {},
   "source": [
    "Examining how the win-rate esimation changes with the number of trials, it appears to be quite stable from 400k trials onwards"
   ]
  },
  {
   "cell_type": "code",
   "execution_count": 8,
   "metadata": {},
   "outputs": [
    {
     "data": {
      "image/png": "[encoded data removed]",
      "text/plain": [
       "<Figure size 700x500 with 1 Axes>"
      ]
     },
     "metadata": {},
     "output_type": "display_data"
    }
   ],
   "source": [
    "fig, ax = plt.subplots(figsize=(7, 5))\n",
    "\n",
    "df[[\"alice_wins\", \"bob_wins\"]].mul(100).expanding().mean().plot.line(ax=ax)\n",
    "\n",
    "ax.set(\n",
    "    title=\"Estimate stabilisation\",\n",
    "    xlabel=\"Number of trials\",\n",
    "    ylabel=\"Win rate (%)\",\n",
    "    ylim=[45, 50],\n",
    ")\n",
    "\n",
    "ax.spines[[\"right\", \"top\"]].set_visible(False)\n",
    "\n",
    "plt.show()"
   ]
  }
 ],
 "metadata": {
  "kernelspec": {
   "display_name": "Python 3",
   "language": "python",
   "name": "python3"
  },
  "language_info": {
   "codemirror_mode": {
    "name": "ipython",
    "version": 3
   },
   "file_extension": ".py",
   "mimetype": "text/x-python",
   "name": "python",
   "nbconvert_exporter": "python",
   "pygments_lexer": "ipython3",
   "version": "3.11.5"
  }
 },
 "nbformat": 4,
 "nbformat_minor": 2
}
